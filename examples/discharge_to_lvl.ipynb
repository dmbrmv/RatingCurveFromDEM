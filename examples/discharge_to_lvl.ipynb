{
 "cells": [
  {
   "cell_type": "code",
   "execution_count": 1,
   "metadata": {},
   "outputs": [],
   "source": [
    "import pandas as pd\n",
    "from scripts.lmfit_model import division_model, sum_model\n",
    "from pathlib import Path\n",
    "from tqdm.notebook import tqdm\n",
    "import numpy as np\n",
    "from sklearn.metrics import root_mean_squared_error\n",
    "import matplotlib.pyplot as plt"
   ]
  },
  {
   "cell_type": "markdown",
   "metadata": {},
   "source": [
    "### Read discharge and convert it to QMS"
   ]
  },
  {
   "cell_type": "code",
   "execution_count": 2,
   "metadata": {},
   "outputs": [
    {
     "data": {
      "application/vnd.jupyter.widget-view+json": {
       "model_id": "473df4f652d24fb6939759eedc0a6a1d",
       "version_major": 2,
       "version_minor": 0
      },
      "text/plain": [
       "  0%|          | 0/1252 [00:00<?, ?it/s]"
      ]
     },
     "metadata": {},
     "output_type": "display_data"
    }
   ],
   "source": [
    "res_folder = Path(\"ConvertedQH/Discharge\")\n",
    "res_folder.mkdir(exist_ok=True, parents=True)\n",
    "\n",
    "for gauge_id in tqdm(list(i.stem for i in Path(\"PreparedCurveData/InitialDischarge/\").glob(\"*.txt\"))):\n",
    "    try:\n",
    "        table_discharge = pd.read_csv(\n",
    "            f\"PreparedCurveData/InitialDischarge/{gauge_id}.txt\", comment=\"#\", sep=\"\\t+\", engine=\"python\"\n",
    "        )\n",
    "\n",
    "    except (FileNotFoundError, pd.errors.EmptyDataError):\n",
    "        continue\n",
    "    if table_discharge.empty:\n",
    "        continue\n",
    "    table_discharge = table_discharge.drop(0).reset_index(drop=True)\n",
    "    table_discharge[\"datetime\"] = pd.to_datetime(table_discharge[\"datetime\"])\n",
    "    table_discharge = table_discharge.set_index(\"datetime\")\n",
    "    # Get the current column names\n",
    "    columns = table_discharge.columns\n",
    "    # Create a dictionary for renaming the last two columns\n",
    "    new_column_names = {\n",
    "        columns[-2]: \"discharge\",\n",
    "        columns[-1]: \"qc\",\n",
    "        \"site_no\": \"gauge_id\",\n",
    "    }\n",
    "    table_discharge.rename(columns=new_column_names, inplace=True)\n",
    "    table_discharge = table_discharge.sort_index()\n",
    "\n",
    "    table_discharge[\"discharge\"] = table_discharge[\"discharge\"].fillna(value=np.nan)\n",
    "    table_discharge[\"discharge\"] = pd.to_numeric(table_discharge[\"discharge\"], errors=\"coerce\")\n",
    "    table_discharge[\"discharge\"] = table_discharge[\"discharge\"] * 0.028316832\n",
    "    try:\n",
    "        table_discharge = table_discharge.loc[pd.date_range(start=\"01-01-2000\", end=\"12-31-2023\"), :]\n",
    "        table_discharge.index.name = \"date\"\n",
    "        table_discharge.to_csv(f\"{res_folder}/{gauge_id}.csv\")\n",
    "    except KeyError:\n",
    "        continue\n"
   ]
  },
  {
   "cell_type": "code",
   "execution_count": 3,
   "metadata": {},
   "outputs": [
    {
     "data": {
      "text/plain": [
       "235"
      ]
     },
     "execution_count": 3,
     "metadata": {},
     "output_type": "execute_result"
    }
   ],
   "source": [
    "len(list(i.stem for i in Path(f\"{res_folder}\").glob(\"*.csv\")))"
   ]
  },
  {
   "cell_type": "markdown",
   "metadata": {},
   "source": [
    "### Read field measurments and store it for further curve approximation"
   ]
  },
  {
   "cell_type": "code",
   "execution_count": 4,
   "metadata": {},
   "outputs": [
    {
     "data": {
      "application/vnd.jupyter.widget-view+json": {
       "model_id": "dba4bb0356374476a065570fb5ed1f01",
       "version_major": 2,
       "version_minor": 0
      },
      "text/plain": [
       "  0%|          | 0/1252 [00:00<?, ?it/s]"
      ]
     },
     "metadata": {},
     "output_type": "display_data"
    },
    {
     "data": {
      "text/plain": [
       "679"
      ]
     },
     "execution_count": 4,
     "metadata": {},
     "output_type": "execute_result"
    }
   ],
   "source": [
    "res_folder = Path(\"ConvertedQH/DischargeLvL\")\n",
    "res_folder.mkdir(exist_ok=True, parents=True)\n",
    "\n",
    "for gauge_id in tqdm(list(i.stem for i in Path(\"PreparedCurveData/InitialDischarge/\").glob(\"*.txt\"))):\n",
    "    \n",
    "    curve_file = pd.read_csv(f\"PreparedCurveData/InitialQH/{gauge_id}.txt\", sep=\"\\t\", comment=\"#\")\n",
    "    if curve_file.empty:\n",
    "        continue\n",
    "    curve_file = curve_file[[\"site_no\", \"measurement_dt\", \"gage_height_va\", \"discharge_va\"]]\n",
    "    curve_file = curve_file.dropna().drop(0).reset_index(drop=True)\n",
    "    curve_file[\"measurement_dt\"] = pd.to_datetime(curve_file[\"measurement_dt\"])\n",
    "    curve_file = curve_file.set_index(\"measurement_dt\")\n",
    "    curve_file[[\"gage_height_va\", \"discharge_va\"]] = curve_file[[\"gage_height_va\", \"discharge_va\"]].astype(\n",
    "        float\n",
    "    )\n",
    "    curve_file[\"gage_height_va\"] *= 0.3\n",
    "    curve_file[\"discharge_va\"] *= 0.028316832\n",
    "\n",
    "    curve_file.rename(\n",
    "        columns={\n",
    "            \"site_no\": \"gauge_id\",\n",
    "            \"gage_height_va\": \"lvl_m\",\n",
    "            \"discharge_va\": \"q_cms\",\n",
    "        },\n",
    "        inplace=True,\n",
    "    )\n",
    "\n",
    "    curve_file.index.name = \"date\"\n",
    "    curve_file = curve_file.loc[\"2000\":\"2023\", :]\n",
    "    curve_file.to_csv(f\"{res_folder}/{gauge_id}.csv\")\n",
    "len(list(i.stem for i in Path(f\"{res_folder}\").glob(\"*.csv\")))"
   ]
  },
  {
   "cell_type": "markdown",
   "metadata": {},
   "source": [
    "### Prepare Q_H curve with lmfit"
   ]
  },
  {
   "cell_type": "code",
   "execution_count": 5,
   "metadata": {},
   "outputs": [
    {
     "data": {
      "application/vnd.jupyter.widget-view+json": {
       "model_id": "8678dbd457634629b209180a3846800e",
       "version_major": 2,
       "version_minor": 0
      },
      "text/plain": [
       "  0%|          | 0/679 [00:00<?, ?it/s]"
      ]
     },
     "metadata": {},
     "output_type": "display_data"
    },
    {
     "name": "stdout",
     "output_type": "stream",
     "text": [
      "Bullshit ! for Gauge with ID 10257600 error is 0.9617074523956122\n"
     ]
    },
    {
     "name": "stderr",
     "output_type": "stream",
     "text": [
      "/home/dmbrmv/miniconda3/envs/geo/lib/python3.10/site-packages/lmfit/model.py:1288: RuntimeWarning: invalid value encountered in divide\n",
      "  return self.op(self.left.eval(params=params, **kwargs),\n"
     ]
    },
    {
     "name": "stdout",
     "output_type": "stream",
     "text": [
      "Bullshit ! for Gauge with ID 11156500 error is 0.8400415934262336\n",
      "Bullshit ! for Gauge with ID 10270940 error is 0.5216639619265129\n",
      "Bullshit ! for Gauge with ID 11140585 error is 0.688318831654689\n",
      "Bullshit ! for Gauge with ID 11118500 error is 0.6932164805742201\n",
      "Bullshit ! for Gauge with ID 10259050 error is 0.5354108519912992\n",
      "Bullshit ! for Gauge with ID 11193030 error is 4.661373887438475\n",
      "Bullshit ! for Gauge with ID 09429130 error is 0.6496299106252503\n",
      "Bullshit ! for Gauge with ID 09429190 error is 0.5600051135972403\n",
      "Bullshit ! for Gauge with ID 103087892 error is 1.5694436817457624\n",
      "Bullshit ! for Gauge with ID 103087891 error is 0.5016997505512739\n",
      "Bullshit ! for Gauge with ID 09429000 error is 2.3548395029945066\n",
      "Bullshit ! for Gauge with ID 09523200 error is 3.408315496512111\n",
      "Bullshit ! for Gauge with ID 11045700 error is 0.5648564663577931\n",
      "Bullshit ! for Gauge with ID 10254730 error is 9.852521135470305\n",
      "Bullshit ! for Gauge with ID 10270877 error is 0.5710572214358807\n",
      "Bullshit ! for Gauge with ID 09524000 error is 30.570166675449666\n",
      "Bullshit ! for Gauge with ID 10270830 error is 0.630833701153541\n",
      "Bullshit ! for Gauge with ID 09527000 error is 16.404248214162703\n",
      "Bullshit ! for Gauge with ID 10287300 error is 1.749664464687939\n",
      "Bullshit ! for Gauge with ID 11147500 error is 1.4208572884372892\n",
      "Bullshit ! for Gauge with ID 09429210 error is 0.503868983640832\n",
      "Bullshit ! for Gauge with ID 11109000 error is 0.6038522419272665\n",
      "Bullshit ! for Gauge with ID 10270970 error is 2.5616713461958676\n",
      "Bullshit ! for Gauge with ID 11070270 error is 0.6785224808137051\n",
      "Bullshit ! for Gauge with ID 09527590 error is 1.191851302502495\n",
      "Bullshit ! for Gauge with ID 11085000 error is 0.6152816142302835\n",
      "Bullshit ! for Gauge with ID 10255810 error is 0.6744525995472549\n",
      "Bullshit ! for Gauge with ID 10287762 error is 0.6263505903225429\n",
      "Bullshit ! for Gauge with ID 11119750 error is 0.5166719618895353\n",
      "Bullshit ! for Gauge with ID 10261500 error is 0.7027496142672642\n",
      "Bullshit ! for Gauge with ID 11114000 error is 16.992524235589013\n",
      "Bullshit ! for Gauge with ID 09527600 error is 5.005326290629668\n",
      "Bullshit ! for Gauge with ID 09429500 error is 9.63715810661043\n",
      "Bullshit ! for Gauge with ID 11113500 error is 63.22714429913799\n",
      "Bullshit ! for Gauge with ID 10251330 error is 1.0147383224834337\n",
      "Bullshit ! for Gauge with ID 09527500 error is 16.568344634881587\n",
      "Bullshit ! for Gauge with ID 10336660 error is 1.0496645961957942\n",
      "Bullshit ! for Gauge with ID 10259200 error is 0.5630757323660135\n",
      "Bullshit ! for Gauge with ID 11119500 error is 0.6170760024045674\n",
      "Bullshit ! for Gauge with ID 11075800 error is 0.5518210106195276\n",
      "Bullshit ! for Gauge with ID 09429170 error is 0.845682552013811\n",
      "Bullshit ! for Gauge with ID 11113000 error is 0.5132925181226541\n",
      "Bullshit ! for Gauge with ID 09525000 error is 1.1345322325018083\n",
      "Bullshit ! for Gauge with ID 11048175 error is 0.9718179591939813\n",
      "Bullshit ! for Gauge with ID 11048200 error is 1.0715163332796647\n",
      "Bullshit ! for Gauge with ID 10270885 error is 1.3905237864602447\n",
      "Bullshit ! for Gauge with ID 11071900 error is 1.6494585509877782\n",
      "Bullshit ! for Gauge with ID 11151300 error is 0.5645027541923229\n",
      "Bullshit ! for Gauge with ID 10257720 error is 2.864173413899863\n",
      "Bullshit ! for Gauge with ID 09429180 error is 1.4836079975357495\n",
      "Shit data for 51 gauges out from 679\n"
     ]
    },
    {
     "data": {
      "text/plain": [
       "0"
      ]
     },
     "execution_count": 5,
     "metadata": {},
     "output_type": "execute_result"
    }
   ],
   "source": [
    "res_folder = Path(\"ConvertedQH/FitParams\")\n",
    "res_folder.mkdir(exist_ok=True, parents=True)\n",
    "\n",
    "counter = 0\n",
    "for gauge_id in tqdm(list(i.stem for i in Path(\"ConvertedQH/DischargeLvL\").glob(\"*.csv\"))):\n",
    "    field_data = pd.read_csv(\n",
    "        f\"ConvertedQH/DischargeLvL/{gauge_id}.csv\",\n",
    "        index_col=\"date\",\n",
    "        parse_dates=True,\n",
    "        dtype={\"gauge_id\": str},\n",
    "    )\n",
    "    field_data = field_data.sort_values(by=\"q_cms\")\n",
    "    field_data.loc[field_data[\"lvl_m\"] < 0, \"lvl_m\"] = 0\n",
    "    if len(field_data) < 4:\n",
    "        continue\n",
    "    y = field_data[\"lvl_m\"].to_numpy()\n",
    "    x = field_data[\"q_cms\"].to_numpy()\n",
    "\n",
    "    try:\n",
    "        use_model = None\n",
    "        use_model = division_model\n",
    "        pars = use_model.make_params(\n",
    "            power={\"min\": 0.001, \"value\": 0.1},\n",
    "            c={\"value\": 0},\n",
    "            slope={\"value\": 1, \"min\": 0},\n",
    "            b={\"value\": 0},\n",
    "        )\n",
    "        result = use_model.fit(y, pars, x=x)\n",
    "        error_res = root_mean_squared_error(y, result.best_fit)\n",
    "        if error_res < 0.5:\n",
    "            with open(f\"ConvertedQH/FitParams/{gauge_id}_div.json\", \"w\") as f:\n",
    "                result.params.dump(f)\n",
    "        else:\n",
    "            counter += 1\n",
    "            print(f\"Bullshit ! for Gauge with ID {gauge_id} error is {error_res}\")\n",
    "    except ValueError:\n",
    "        use_model = None\n",
    "        use_model = sum_model\n",
    "        pars = use_model.make_params(\n",
    "            power={\"min\": 0.001, \"value\": 0.1},\n",
    "            c={\"value\": 0},\n",
    "            slope={\"value\": 1, \"min\": 0},\n",
    "            b={\"value\": 0},\n",
    "        )\n",
    "        result = use_model.fit(y, pars, x=x)\n",
    "\n",
    "        error_res = root_mean_squared_error(y, result.best_fit)\n",
    "        if error_res < 0.5:\n",
    "            with open(f\"{res_folder}/{gauge_id}_sum.json\", \"w\") as f:\n",
    "                result.params.dump(f)\n",
    "        else:\n",
    "            counter += 1\n",
    "            print(f\"Bullshit ! for Gauge with ID {gauge_id} error is {error_res}\")\n",
    "        plt.plot(x, result.best_fit, \"-\", label=\"best fit\")\n",
    "        plt.plot(x, y, \"*\", label=\"field\", color=\"green\")\n",
    "        plt.savefig(f\"ConvertedQH/Images/{gauge_id}.png\")\n",
    "        plt.close()\n",
    "\n",
    "print(\n",
    "    f\"Shit data for {counter} gauges out from {len(list(i.stem for i in Path('ConvertedQH/DischargeLvL').glob('*.csv')))}\"\n",
    ")\n",
    "len(list(i.stem for i in Path(f\"{res_folder}\").glob(\"*.json\")))"
   ]
  },
  {
   "cell_type": "markdown",
   "metadata": {},
   "source": [
    "### Create LvL series with model parameters based on discharges"
   ]
  },
  {
   "cell_type": "code",
   "execution_count": 33,
   "metadata": {},
   "outputs": [],
   "source": [
    "bad_visual = list(\n",
    "    i.replace('\"', \"\").replace(\" \", \"\") for i in pd.read_csv(\"configs/bad_gauges.csv\").columns\n",
    ")\n",
    "prepared_params = list(i.stem for i in Path(\"ConvertedQH/FitParams/\").glob(\"*.json\"))\n",
    "param_gauges = [i.split(\"_\") for i in prepared_params if i.split(\"_\")[0] not in bad_visual]\n",
    "q_gauges = list(i.stem for i in Path(\"ConvertedQH/Discharge/\").glob(\"*.csv\"))\n",
    "param_gauges = [i for i in param_gauges if i[0] in q_gauges]"
   ]
  },
  {
   "cell_type": "code",
   "execution_count": 70,
   "metadata": {},
   "outputs": [
    {
     "data": {
      "application/vnd.jupyter.widget-view+json": {
       "model_id": "1c2bde2c53d54ff19a33e56bcd397be3",
       "version_major": 2,
       "version_minor": 0
      },
      "text/plain": [
       "  0%|          | 0/164 [00:00<?, ?it/s]"
      ]
     },
     "metadata": {},
     "output_type": "display_data"
    },
    {
     "data": {
      "text/plain": [
       "164"
      ]
     },
     "execution_count": 70,
     "metadata": {},
     "output_type": "execute_result"
    }
   ],
   "source": [
    "res_folder = Path(\"ConvertedQH/ResultQH\")\n",
    "res_folder.mkdir(exist_ok=True, parents=True)\n",
    "\n",
    "for desc in tqdm(param_gauges):\n",
    "    result = None\n",
    "    gauge_id, model_type = desc\n",
    "    table_discharge = pd.read_csv(\n",
    "        f\"ConvertedQH/Discharge/{gauge_id}.csv\",\n",
    "        index_col=\"date\",\n",
    "        parse_dates=True,\n",
    "        dtype={\"gauge_id\": str, \"discharge\": float},\n",
    "    )\n",
    "    qh_table = pd.read_csv(\n",
    "        f\"ConvertedQH/DischargeLvL/{gauge_id}.csv\",\n",
    "        index_col=\"date\",\n",
    "        parse_dates=True,\n",
    "        dtype={\"gauge_id\": str, \"q_cms\": float, \"lvl_m\": float},\n",
    "    )\n",
    "    y = qh_table[\"lvl_m\"].to_numpy()\n",
    "    x = qh_table[\"q_cms\"].to_numpy()\n",
    "    if model_type == \"sum\":\n",
    "        pars = sum_model.make_params(\n",
    "            power={\"min\": 0.001, \"value\": 0.1},\n",
    "            c={\"value\": 0},\n",
    "            slope={\"value\": 1, \"min\": 0},\n",
    "            b={\"value\": 0},\n",
    "        )\n",
    "        result = sum_model.fit(y, pars, x=x)\n",
    "\n",
    "    elif model_type == \"div\":\n",
    "        pars = division_model.make_params(\n",
    "            power={\"min\": 0.001, \"value\": 0.1},\n",
    "            c={\"value\": 0},\n",
    "            slope={\"value\": 1, \"min\": 0},\n",
    "            b={\"value\": 0},\n",
    "        )\n",
    "        result = division_model.fit(y, pars, x=x)\n",
    "    else:\n",
    "        print(f\"{gauge_id}\")\n",
    "\n",
    "    with open(f\"ConvertedQH/FitParams/{gauge_id}_{model_type}.json\", \"r\") as f:\n",
    "        params = result.params.load(f)\n",
    "\n",
    "    table_discharge[\"lvl\"] = [\n",
    "        result.eval(x=i, params=params) for i in table_discharge[\"discharge\"].to_numpy()\n",
    "    ]\n",
    "    table_discharge.to_csv(f\"{res_folder}/{gauge_id}.csv\")\n",
    "    # plt.plot(x, y, \"*\", label=\"field\", color=\"green\")\n",
    "    # plt.plot(\n",
    "    #     table_discharge[\"discharge\"], table_discharge[\"lvl\"], \"*\", label=\"predictions\", color=\"red\"\n",
    "    # )\n",
    "    # plt.legend()\n",
    "    # plt.savefig(f\"ConvertedQH/ImagesQH/{gauge_id}.png\")\n",
    "    # plt.close()\n",
    "\n",
    "len(list(i.stem for i in Path(f\"{res_folder}\").glob(\"*.csv\")))\n"
   ]
  },
  {
   "cell_type": "markdown",
   "metadata": {},
   "source": [
    "### Prepare geodataframe with final gauges"
   ]
  },
  {
   "cell_type": "code",
   "execution_count": 2,
   "metadata": {},
   "outputs": [
    {
     "data": {
      "text/html": [
       "<div>\n",
       "<style scoped>\n",
       "    .dataframe tbody tr th:only-of-type {\n",
       "        vertical-align: middle;\n",
       "    }\n",
       "\n",
       "    .dataframe tbody tr th {\n",
       "        vertical-align: top;\n",
       "    }\n",
       "\n",
       "    .dataframe thead th {\n",
       "        text-align: right;\n",
       "    }\n",
       "</style>\n",
       "<table border=\"1\" class=\"dataframe\">\n",
       "  <thead>\n",
       "    <tr style=\"text-align: right;\">\n",
       "      <th></th>\n",
       "      <th>SiteName</th>\n",
       "      <th>SiteCategory</th>\n",
       "      <th>SiteAgency</th>\n",
       "      <th>SiteLongitude</th>\n",
       "      <th>SiteLatitude</th>\n",
       "      <th>SiteNWISURL</th>\n",
       "    </tr>\n",
       "    <tr>\n",
       "      <th>SiteNumber</th>\n",
       "      <th></th>\n",
       "      <th></th>\n",
       "      <th></th>\n",
       "      <th></th>\n",
       "      <th></th>\n",
       "      <th></th>\n",
       "    </tr>\n",
       "  </thead>\n",
       "  <tbody>\n",
       "    <tr>\n",
       "      <th>09423350</th>\n",
       "      <td>CARUTHERS C NR IVANPAH CA</td>\n",
       "      <td>ST</td>\n",
       "      <td>USGS</td>\n",
       "      <td>-115.298989</td>\n",
       "      <td>35.245006</td>\n",
       "      <td>https://waterdata.usgs.gov/nwis/inventory?agen...</td>\n",
       "    </tr>\n",
       "    <tr>\n",
       "      <th>09424050</th>\n",
       "      <td>CHEMEHUEVI WASH TRIB NR NEEDLES CA</td>\n",
       "      <td>ST</td>\n",
       "      <td>USGS</td>\n",
       "      <td>-114.603574</td>\n",
       "      <td>34.508343</td>\n",
       "      <td>https://waterdata.usgs.gov/nwis/inventory?agen...</td>\n",
       "    </tr>\n",
       "    <tr>\n",
       "      <th>09424150</th>\n",
       "      <td>COLORADO RIVER AQUEDUCT NEAR PARKER DAM, AZ-CA</td>\n",
       "      <td>ST</td>\n",
       "      <td>USGS</td>\n",
       "      <td>-114.157170</td>\n",
       "      <td>34.316126</td>\n",
       "      <td>https://waterdata.usgs.gov/nwis/inventory?agen...</td>\n",
       "    </tr>\n",
       "    <tr>\n",
       "      <th>09424170</th>\n",
       "      <td>GENE WASH BL GENE WASH RES N PARKER DAM AZ-CAL</td>\n",
       "      <td>ST</td>\n",
       "      <td>USGS</td>\n",
       "      <td>-114.163281</td>\n",
       "      <td>34.300015</td>\n",
       "      <td>https://waterdata.usgs.gov/nwis/inventory?agen...</td>\n",
       "    </tr>\n",
       "    <tr>\n",
       "      <th>09427520</th>\n",
       "      <td>COLORADO RIVER BELOW PARKER DAM, AZ-CA</td>\n",
       "      <td>ST</td>\n",
       "      <td>USGS</td>\n",
       "      <td>-114.140225</td>\n",
       "      <td>34.295570</td>\n",
       "      <td>https://waterdata.usgs.gov/nwis/inventory?agen...</td>\n",
       "    </tr>\n",
       "  </tbody>\n",
       "</table>\n",
       "</div>"
      ],
      "text/plain": [
       "                                                  SiteName SiteCategory  \\\n",
       "SiteNumber                                                                \n",
       "09423350                         CARUTHERS C NR IVANPAH CA           ST   \n",
       "09424050                CHEMEHUEVI WASH TRIB NR NEEDLES CA           ST   \n",
       "09424150    COLORADO RIVER AQUEDUCT NEAR PARKER DAM, AZ-CA           ST   \n",
       "09424170    GENE WASH BL GENE WASH RES N PARKER DAM AZ-CAL           ST   \n",
       "09427520            COLORADO RIVER BELOW PARKER DAM, AZ-CA           ST   \n",
       "\n",
       "           SiteAgency  SiteLongitude  SiteLatitude  \\\n",
       "SiteNumber                                           \n",
       "09423350         USGS    -115.298989     35.245006   \n",
       "09424050         USGS    -114.603574     34.508343   \n",
       "09424150         USGS    -114.157170     34.316126   \n",
       "09424170         USGS    -114.163281     34.300015   \n",
       "09427520         USGS    -114.140225     34.295570   \n",
       "\n",
       "                                                  SiteNWISURL  \n",
       "SiteNumber                                                     \n",
       "09423350    https://waterdata.usgs.gov/nwis/inventory?agen...  \n",
       "09424050    https://waterdata.usgs.gov/nwis/inventory?agen...  \n",
       "09424150    https://waterdata.usgs.gov/nwis/inventory?agen...  \n",
       "09424170    https://waterdata.usgs.gov/nwis/inventory?agen...  \n",
       "09427520    https://waterdata.usgs.gov/nwis/inventory?agen...  "
      ]
     },
     "execution_count": 2,
     "metadata": {},
     "output_type": "execute_result"
    }
   ],
   "source": [
    "import geopandas as gpd\n",
    "from shapely.geometry import Point\n",
    "import pandas as pd\n",
    "\n",
    "initial_points = pd.read_csv(\"data/NWISMapperExport.csv\",\n",
    "                             dtype={\"SiteNumber\": str}, index_col=\"SiteNumber\")\n",
    "\n",
    "initial_points.head()"
   ]
  },
  {
   "cell_type": "code",
   "execution_count": 16,
   "metadata": {},
   "outputs": [],
   "source": [
    "my_custom_points = [\"11143200\", \"11152500\", \"11152650\", \"1117777\", \"11159200\"]\n",
    "\n",
    "points = gpd.read_file(\"/mnt/c/Users/dmbrmv/DevWindows/Skoltech/california_flood/gauge_points.gpkg\")\n",
    "\n",
    "points = points.loc[points.SiteNumber.isin(my_custom_points), :].reset_index(drop=True)\n",
    "points.to_file(\"data/custom_points.gpkg\")"
   ]
  },
  {
   "cell_type": "code",
   "execution_count": 18,
   "metadata": {},
   "outputs": [
    {
     "data": {
      "text/html": [
       "<div>\n",
       "<style scoped>\n",
       "    .dataframe tbody tr th:only-of-type {\n",
       "        vertical-align: middle;\n",
       "    }\n",
       "\n",
       "    .dataframe tbody tr th {\n",
       "        vertical-align: top;\n",
       "    }\n",
       "\n",
       "    .dataframe thead th {\n",
       "        text-align: right;\n",
       "    }\n",
       "</style>\n",
       "<table border=\"1\" class=\"dataframe\">\n",
       "  <thead>\n",
       "    <tr style=\"text-align: right;\">\n",
       "      <th></th>\n",
       "      <th>SiteNumber</th>\n",
       "      <th>SiteName</th>\n",
       "      <th>SiteCategory</th>\n",
       "      <th>SiteAgency</th>\n",
       "      <th>SiteLongitude</th>\n",
       "      <th>SiteLatitude</th>\n",
       "      <th>SiteNWISURL</th>\n",
       "      <th>geometry</th>\n",
       "    </tr>\n",
       "  </thead>\n",
       "  <tbody>\n",
       "    <tr>\n",
       "      <th>0</th>\n",
       "      <td>11159200</td>\n",
       "      <td>CORRALITOS C A FREEDOM CA</td>\n",
       "      <td>ST</td>\n",
       "      <td>USGS</td>\n",
       "      <td>-121.770506</td>\n",
       "      <td>36.939397</td>\n",
       "      <td>https://waterdata.usgs.gov/nwis/inventory?agen...</td>\n",
       "      <td>POINT (-121.77051 36.9394)</td>\n",
       "    </tr>\n",
       "    <tr>\n",
       "      <th>1</th>\n",
       "      <td>11152650</td>\n",
       "      <td>RECLAMATION DITCH NR SALINAS CA</td>\n",
       "      <td>ST-DCH</td>\n",
       "      <td>USGS</td>\n",
       "      <td>-121.704948</td>\n",
       "      <td>36.704959</td>\n",
       "      <td>https://waterdata.usgs.gov/nwis/inventory?agen...</td>\n",
       "      <td>POINT (-121.70495 36.70496)</td>\n",
       "    </tr>\n",
       "    <tr>\n",
       "      <th>2</th>\n",
       "      <td>11143200</td>\n",
       "      <td>CARMEL R A ROBLES DEL RIO CA</td>\n",
       "      <td>ST</td>\n",
       "      <td>USGS</td>\n",
       "      <td>-121.728889</td>\n",
       "      <td>36.474861</td>\n",
       "      <td>https://waterdata.usgs.gov/nwis/inventory?agen...</td>\n",
       "      <td>POINT (-121.72889 36.47486)</td>\n",
       "    </tr>\n",
       "    <tr>\n",
       "      <th>3</th>\n",
       "      <td>11152500</td>\n",
       "      <td>SALINAS R NR SPRECKELS CA</td>\n",
       "      <td>ST</td>\n",
       "      <td>USGS</td>\n",
       "      <td>-121.672446</td>\n",
       "      <td>36.631071</td>\n",
       "      <td>https://waterdata.usgs.gov/nwis/inventory?agen...</td>\n",
       "      <td>POINT (-121.67245 36.63107)</td>\n",
       "    </tr>\n",
       "    <tr>\n",
       "      <th>4</th>\n",
       "      <td>1117777</td>\n",
       "      <td>Pajaro River, Watsonville</td>\n",
       "      <td>None</td>\n",
       "      <td>None</td>\n",
       "      <td>-121.751388</td>\n",
       "      <td>36.905046</td>\n",
       "      <td>None</td>\n",
       "      <td>POINT (-121.75139 36.90505)</td>\n",
       "    </tr>\n",
       "  </tbody>\n",
       "</table>\n",
       "</div>"
      ],
      "text/plain": [
       "  SiteNumber                         SiteName  SiteCategory  SiteAgency  \\\n",
       "0   11159200        CORRALITOS C A FREEDOM CA            ST        USGS   \n",
       "1   11152650  RECLAMATION DITCH NR SALINAS CA        ST-DCH        USGS   \n",
       "2   11143200     CARMEL R A ROBLES DEL RIO CA            ST        USGS   \n",
       "3   11152500        SALINAS R NR SPRECKELS CA            ST        USGS   \n",
       "4    1117777        Pajaro River, Watsonville          None        None   \n",
       "\n",
       "    SiteLongitude   SiteLatitude  \\\n",
       "0     -121.770506      36.939397   \n",
       "1     -121.704948      36.704959   \n",
       "2     -121.728889      36.474861   \n",
       "3     -121.672446      36.631071   \n",
       "4     -121.751388      36.905046   \n",
       "\n",
       "                                         SiteNWISURL  \\\n",
       "0  https://waterdata.usgs.gov/nwis/inventory?agen...   \n",
       "1  https://waterdata.usgs.gov/nwis/inventory?agen...   \n",
       "2  https://waterdata.usgs.gov/nwis/inventory?agen...   \n",
       "3  https://waterdata.usgs.gov/nwis/inventory?agen...   \n",
       "4                                               None   \n",
       "\n",
       "                      geometry  \n",
       "0   POINT (-121.77051 36.9394)  \n",
       "1  POINT (-121.70495 36.70496)  \n",
       "2  POINT (-121.72889 36.47486)  \n",
       "3  POINT (-121.67245 36.63107)  \n",
       "4  POINT (-121.75139 36.90505)  "
      ]
     },
     "execution_count": 18,
     "metadata": {},
     "output_type": "execute_result"
    }
   ],
   "source": [
    "points\n"
   ]
  },
  {
   "cell_type": "code",
   "execution_count": 73,
   "metadata": {},
   "outputs": [
    {
     "data": {
      "text/html": [
       "<div>\n",
       "<style scoped>\n",
       "    .dataframe tbody tr th:only-of-type {\n",
       "        vertical-align: middle;\n",
       "    }\n",
       "\n",
       "    .dataframe tbody tr th {\n",
       "        vertical-align: top;\n",
       "    }\n",
       "\n",
       "    .dataframe thead th {\n",
       "        text-align: right;\n",
       "    }\n",
       "</style>\n",
       "<table border=\"1\" class=\"dataframe\">\n",
       "  <thead>\n",
       "    <tr style=\"text-align: right;\">\n",
       "      <th></th>\n",
       "      <th>SiteName</th>\n",
       "      <th>SiteCategory</th>\n",
       "      <th>SiteAgency</th>\n",
       "      <th>SiteLongitude</th>\n",
       "      <th>SiteLatitude</th>\n",
       "      <th>SiteNWISURL</th>\n",
       "      <th>geometry</th>\n",
       "    </tr>\n",
       "    <tr>\n",
       "      <th>SiteNumber</th>\n",
       "      <th></th>\n",
       "      <th></th>\n",
       "      <th></th>\n",
       "      <th></th>\n",
       "      <th></th>\n",
       "      <th></th>\n",
       "      <th></th>\n",
       "    </tr>\n",
       "  </thead>\n",
       "  <tbody>\n",
       "    <tr>\n",
       "      <th>11161000</th>\n",
       "      <td>SAN LORENZO R A SANTA CRUZ CA</td>\n",
       "      <td>ST</td>\n",
       "      <td>USGS</td>\n",
       "      <td>-122.031908</td>\n",
       "      <td>36.990783</td>\n",
       "      <td>https://waterdata.usgs.gov/nwis/inventory?agen...</td>\n",
       "      <td>POINT (-122.03191 36.99078)</td>\n",
       "    </tr>\n",
       "    <tr>\n",
       "      <th>11133000</th>\n",
       "      <td>SANTA YNEZ R A NARROWS NR LOMPOC CA</td>\n",
       "      <td>ST</td>\n",
       "      <td>USGS</td>\n",
       "      <td>-120.424606</td>\n",
       "      <td>34.636095</td>\n",
       "      <td>https://waterdata.usgs.gov/nwis/inventory?agen...</td>\n",
       "      <td>POINT (-120.42461 34.63609)</td>\n",
       "    </tr>\n",
       "    <tr>\n",
       "      <th>10258500</th>\n",
       "      <td>PALM CYN C NR PALM SPRINGS CA</td>\n",
       "      <td>ST</td>\n",
       "      <td>USGS</td>\n",
       "      <td>-116.535571</td>\n",
       "      <td>33.745022</td>\n",
       "      <td>https://waterdata.usgs.gov/nwis/inventory?agen...</td>\n",
       "      <td>POINT (-116.53557 33.74502)</td>\n",
       "    </tr>\n",
       "    <tr>\n",
       "      <th>11042400</th>\n",
       "      <td>TEMECULA C NR AGUANGA CA</td>\n",
       "      <td>ST</td>\n",
       "      <td>USGS</td>\n",
       "      <td>-116.923636</td>\n",
       "      <td>33.459198</td>\n",
       "      <td>https://waterdata.usgs.gov/nwis/inventory?agen...</td>\n",
       "      <td>POINT (-116.92364 33.4592)</td>\n",
       "    </tr>\n",
       "    <tr>\n",
       "      <th>11152300</th>\n",
       "      <td>SALINAS R NR CHUALAR CA</td>\n",
       "      <td>ST</td>\n",
       "      <td>USGS</td>\n",
       "      <td>-121.549386</td>\n",
       "      <td>36.553573</td>\n",
       "      <td>https://waterdata.usgs.gov/nwis/inventory?agen...</td>\n",
       "      <td>POINT (-121.54939 36.55357)</td>\n",
       "    </tr>\n",
       "  </tbody>\n",
       "</table>\n",
       "</div>"
      ],
      "text/plain": [
       "                                       SiteName  SiteCategory  SiteAgency  \\\n",
       "SiteNumber                                                                  \n",
       "11161000          SAN LORENZO R A SANTA CRUZ CA            ST        USGS   \n",
       "11133000    SANTA YNEZ R A NARROWS NR LOMPOC CA            ST        USGS   \n",
       "10258500          PALM CYN C NR PALM SPRINGS CA            ST        USGS   \n",
       "11042400               TEMECULA C NR AGUANGA CA            ST        USGS   \n",
       "11152300                SALINAS R NR CHUALAR CA            ST        USGS   \n",
       "\n",
       "             SiteLongitude   SiteLatitude  \\\n",
       "SiteNumber                                  \n",
       "11161000       -122.031908      36.990783   \n",
       "11133000       -120.424606      34.636095   \n",
       "10258500       -116.535571      33.745022   \n",
       "11042400       -116.923636      33.459198   \n",
       "11152300       -121.549386      36.553573   \n",
       "\n",
       "                                                  SiteNWISURL  \\\n",
       "SiteNumber                                                      \n",
       "11161000    https://waterdata.usgs.gov/nwis/inventory?agen...   \n",
       "11133000    https://waterdata.usgs.gov/nwis/inventory?agen...   \n",
       "10258500    https://waterdata.usgs.gov/nwis/inventory?agen...   \n",
       "11042400    https://waterdata.usgs.gov/nwis/inventory?agen...   \n",
       "11152300    https://waterdata.usgs.gov/nwis/inventory?agen...   \n",
       "\n",
       "                               geometry  \n",
       "SiteNumber                               \n",
       "11161000    POINT (-122.03191 36.99078)  \n",
       "11133000    POINT (-120.42461 34.63609)  \n",
       "10258500    POINT (-116.53557 33.74502)  \n",
       "11042400     POINT (-116.92364 33.4592)  \n",
       "11152300    POINT (-121.54939 36.55357)  "
      ]
     },
     "execution_count": 73,
     "metadata": {},
     "output_type": "execute_result"
    }
   ],
   "source": [
    "final_gauges = list(i.stem for i in Path(\"ConvertedQH/ResultQH/\").glob(\"*.csv\"))\n",
    "final_points = initial_points.loc[final_gauges, :]\n",
    "\n",
    "final_points[\"geometry\"] = [\n",
    "    Point(lat, lon) for lat, lon in final_points[[\" SiteLongitude\", \" SiteLatitude\"]].values\n",
    "]\n",
    "final_points = gpd.GeoDataFrame(final_points, crs=\"EPSG:4326\", geometry=\"geometry\")\n",
    "\n",
    "final_points.to_file(\"data/gauge_points.gpkg\")\n",
    "final_points.head()"
   ]
  }
 ],
 "metadata": {
  "kernelspec": {
   "display_name": "rating_curve",
   "language": "python",
   "name": "python3"
  },
  "language_info": {
   "codemirror_mode": {
    "name": "ipython",
    "version": 3
   },
   "file_extension": ".py",
   "mimetype": "text/x-python",
   "name": "python",
   "nbconvert_exporter": "python",
   "pygments_lexer": "ipython3",
   "version": "3.10.14"
  }
 },
 "nbformat": 4,
 "nbformat_minor": 2
}
