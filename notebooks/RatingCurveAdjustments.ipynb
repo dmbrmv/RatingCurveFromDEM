{
 "cells": [
  {
   "cell_type": "code",
   "execution_count": 1,
   "metadata": {},
   "outputs": [],
   "source": [
    "%load_ext autoreload\n",
    "%autoreload 2"
   ]
  },
  {
   "cell_type": "code",
   "execution_count": 2,
   "metadata": {},
   "outputs": [],
   "source": [
    "from pathlib import Path\n",
    "\n",
    "import matplotlib.pyplot as plt\n",
    "import numpy as np\n",
    "import pandas as pd\n",
    "from tqdm.notebook import tqdm\n",
    "\n",
    "from lmfit import Model, Parameters\n",
    "from scripts.lmfit_model import division_model, sum_model\n",
    "from scripts.metrics import rmse\n"
   ]
  },
  {
   "cell_type": "markdown",
   "metadata": {},
   "source": [
    "### Select file with enough data"
   ]
  },
  {
   "cell_type": "code",
   "execution_count": 4,
   "metadata": {},
   "outputs": [],
   "source": [
    "processed_data_path = Path(\"data/HydroReady\")\n",
    "processed_data_path.mkdir(exist_ok=True, parents=True)\n",
    "q_h_dict = {}\n",
    "for file in Path(\"data/HydroFiles/\").glob(\"*.csv\"):\n",
    "    hydro_file = pd.read_csv(file, parse_dates=True, index_col=\"date\")\n",
    "    q_condition = hydro_file[\"q_cms\"].isna().sum() > 2000\n",
    "    h_condition = hydro_file[\"lvl_sm\"].isna().sum() > 2000\n",
    "    if q_condition & h_condition:\n",
    "        continue\n",
    "    else:\n",
    "        hydro_file = hydro_file[[\"q_cms\", \"lvl_sm\"]].groupby(pd.Grouper(freq=\"10D\")).max()\n",
    "        hydro_file[hydro_file <= 0] = np.nan\n",
    "        hydro_file = hydro_file.sort_values(by=\"q_cms\", ascending=False).dropna()\n",
    "        q_h_dict[file.stem] = hydro_file\n",
    "        hydro_file.to_pickle(processed_data_path / f\"{file.stem}.pkl\")\n"
   ]
  },
  {
   "cell_type": "markdown",
   "metadata": {},
   "source": [
    "### Plot full range Q(h)"
   ]
  },
  {
   "cell_type": "code",
   "execution_count": 12,
   "metadata": {},
   "outputs": [
    {
     "data": {
      "application/vnd.jupyter.widget-view+json": {
       "model_id": "00aa768d97a6436e87c9efb3541334a8",
       "version_major": 2,
       "version_minor": 0
      },
      "text/plain": [
       "  0%|          | 0/1884 [00:00<?, ?it/s]"
      ]
     },
     "metadata": {},
     "output_type": "display_data"
    }
   ],
   "source": [
    "image_storage = Path(\"data/initial_curves/\")\n",
    "image_storage.mkdir(exist_ok=True, parents=True)\n",
    "# Disable interactive mode to prevent plots from showing up\n",
    "for gauge_id, data_file in tqdm(q_h_dict.items()):\n",
    "    qh_scatter = data_file.plot.scatter(x=\"q_cms\", y=\"lvl_sm\", c=\"Red\")\n",
    "    qh_scatter.get_figure().savefig(f\"{image_storage}/{gauge_id}.png\")\n",
    "    plt.close()\n"
   ]
  },
  {
   "cell_type": "markdown",
   "metadata": {},
   "source": [
    "### Open water period (april-october)"
   ]
  },
  {
   "cell_type": "code",
   "execution_count": 13,
   "metadata": {},
   "outputs": [
    {
     "data": {
      "application/vnd.jupyter.widget-view+json": {
       "model_id": "66b2285e78904f2e913af2663f7a0770",
       "version_major": 2,
       "version_minor": 0
      },
      "text/plain": [
       "  0%|          | 0/1884 [00:00<?, ?it/s]"
      ]
     },
     "metadata": {},
     "output_type": "display_data"
    }
   ],
   "source": [
    "image_storage = Path(\"data/open_river_curves/\")\n",
    "image_storage.mkdir(exist_ok=True, parents=True)\n",
    "# Disable interactive mode to prevent plots from showing up\n",
    "for gauge_id, data_file in tqdm(q_h_dict.items()):\n",
    "    qh_scatter = data_file.loc[data_file.index.month.isin(range(4, 11))].plot.scatter(\n",
    "        x=\"q_cms\", y=\"lvl_sm\", c=\"Red\"\n",
    "    )\n",
    "    qh_scatter.get_figure().savefig(f\"{image_storage}/{gauge_id}.png\")\n",
    "    plt.close()\n"
   ]
  },
  {
   "cell_type": "markdown",
   "metadata": {},
   "source": [
    "### Create Q(h) for each gauge"
   ]
  },
  {
   "cell_type": "code",
   "execution_count": 14,
   "metadata": {},
   "outputs": [
    {
     "data": {
      "application/vnd.jupyter.widget-view+json": {
       "model_id": "8c57d09a1d3c4aa79e710918363dcd24",
       "version_major": 2,
       "version_minor": 0
      },
      "text/plain": [
       "  0%|          | 0/1884 [00:00<?, ?it/s]"
      ]
     },
     "metadata": {},
     "output_type": "display_data"
    },
    {
     "name": "stdout",
     "output_type": "stream",
     "text": [
      "Bullshit ! for Gauge with ID 84173 error is 168.49\n",
      "Bullshit ! for Gauge with ID 84399 error is 103.14\n",
      "Bullshit ! for Gauge with ID 84039 error is 148.52\n",
      "Bullshit ! for Gauge with ID 84213 error is 112.05\n",
      "Bullshit ! for Gauge with ID 84401 error is 82.17\n",
      "Bullshit ! for Gauge with ID 84398 error is 72.79\n",
      "Bullshit ! for Gauge with ID 84165 error is 187.52\n",
      "Bullshit ! for Gauge with ID 9302 error is 71.52\n",
      "Bullshit ! for Gauge with ID 84824 error is 61.96\n",
      "Bullshit ! for Gauge with ID 84029 error is 110.62\n",
      "Bullshit ! for Gauge with ID 84200 error is 82.21\n",
      "Bullshit ! for Gauge with ID 84215 error is 124.71\n",
      "Bullshit ! for Gauge with ID 5217 error is 62.91\n",
      "Bullshit ! for Gauge with ID 83441 error is 69.87\n",
      "Bullshit ! for Gauge with ID 84448 error is 63.16\n",
      "Bullshit ! for Gauge with ID 84064 error is 66.18\n",
      "Bullshit ! for Gauge with ID 84449 error is 92.63\n",
      "Bullshit ! for Gauge with ID 11487 error is 73.67\n",
      "Bullshit ! for Gauge with ID 75511 error is 125.94\n",
      "Bullshit ! for Gauge with ID 19235 error is 62.50\n",
      "Bullshit ! for Gauge with ID 78163 error is 74.26\n",
      "Bullshit ! for Gauge with ID 9419 error is 529.31\n",
      "Bullshit ! for Gauge with ID 82033 error is 82.99\n",
      "Bullshit ! for Gauge with ID 84091 error is 108.84\n",
      "Bullshit ! for Gauge with ID 9547 error is 72.79\n",
      "Bullshit ! for Gauge with ID 84245 error is 83.99\n",
      "Bullshit ! for Gauge with ID 9436 error is 203.47\n",
      "Bullshit ! for Gauge with ID 84447 error is 86.33\n",
      "Bullshit ! for Gauge with ID 84321 error is 62.08\n",
      "Bullshit ! for Gauge with ID 84453 error is 60.95\n",
      "Bullshit ! for Gauge with ID 5190 error is 68.17\n",
      "Bullshit ! for Gauge with ID 84452 error is 121.26\n",
      "Bullshit ! for Gauge with ID 84446 error is 85.55\n",
      "Bullshit ! for Gauge with ID 2206 error is 137.81\n",
      "Bullshit ! for Gauge with ID 84108 error is 151.21\n",
      "Bullshit ! for Gauge with ID 84336 error is 65.93\n",
      "Bullshit ! for Gauge with ID 84243 error is 100.29\n",
      "Bullshit ! for Gauge with ID 19016 error is 63.57\n",
      "Bullshit ! for Gauge with ID 84185 error is 198.11\n",
      "Bullshit ! for Gauge with ID 84344 error is 91.99\n",
      "Bullshit ! for Gauge with ID 70616 error is 84.28\n",
      "Bullshit ! for Gauge with ID 84026 error is 61.10\n",
      "Bullshit ! for Gauge with ID 9297 error is 104.08\n",
      "Bullshit ! for Gauge with ID 6403 error is 63.48\n",
      "Bullshit ! for Gauge with ID 84192 error is 114.59\n",
      "Bullshit ! for Gauge with ID 84179 error is 158.09\n",
      "Bullshit ! for Gauge with ID 84233 error is 89.45\n",
      "Bullshit ! for Gauge with ID 84346 error is 60.79\n",
      "Bullshit ! for Gauge with ID 84342 error is 92.76\n",
      "Bullshit ! for Gauge with ID 84343 error is 132.03\n",
      "Bullshit ! for Gauge with ID 84157 error is 233.11\n",
      "Bullshit ! for Gauge with ID 5052 error is 61.47\n",
      "Bullshit ! for Gauge with ID 84037 error is 169.61\n",
      "\n",
      "Shit data for 161 gauges out from 1884\n"
     ]
    }
   ],
   "source": [
    "qh_storage_full = Path(\"data/params/qh_full\")\n",
    "qh_storage_full.mkdir(exist_ok=True, parents=True)\n",
    "\n",
    "counter = 0\n",
    "for gauge_id, data_file in tqdm(q_h_dict.items()):\n",
    "    data_file = data_file.sort_values(by=\"q_cms\", ascending=False)\n",
    "    if len(data_file) < 4:\n",
    "        counter += 1\n",
    "        continue\n",
    "    x = data_file[\"q_cms\"].to_numpy()\n",
    "    y = data_file[\"lvl_sm\"].to_numpy()\n",
    "    use_model = None\n",
    "    try:\n",
    "        use_model = division_model\n",
    "        params = Parameters()\n",
    "        params.add(\"power\", value=1, min=0.01, vary=True)\n",
    "        params.add(\"c\", value=1, min=0.1, vary=True)\n",
    "        params.add(\"slope\", value=1, min=0.01, vary=True)\n",
    "        params.add(\"b\", value=1, min=0.1, vary=True)\n",
    "        result = use_model.fit(y, params, x=x)\n",
    "        error_res = rmse(y_true=y, y_pred=result.best_fit)\n",
    "        if error_res < 60.0:\n",
    "            with open(f\"{qh_storage_full}/{gauge_id}_div.json\", \"w\") as f:\n",
    "                result.params.dump(f)\n",
    "        else:\n",
    "            counter += 1\n",
    "            print(f\"Bullshit ! for Gauge with ID {gauge_id} error is {error_res:.2f}\")\n",
    "    except ValueError:\n",
    "        use_model = sum_model\n",
    "        params = Parameters()\n",
    "        params.add(\"power\", value=1, min=0.01, max=3, brute_step=0.1, vary=True)\n",
    "        params.add(\"c\", value=1, min=0.1, vary=True)\n",
    "        params.add(\"slope\", value=1, min=0.001, max=3, brute_step=0.1, vary=True)\n",
    "        params.add(\"b\", value=1, min=0.1, vary=True)\n",
    "        result = use_model.fit(y, params, x=x)\n",
    "\n",
    "        error_res = rmse(y_true=y, y_pred=result.best_fit)\n",
    "        if error_res < 60.0:\n",
    "            with open(f\"{qh_storage_full}/{gauge_id}_sum.json\", \"w\") as f:\n",
    "                result.params.dump(f)\n",
    "        else:\n",
    "            counter += 1\n",
    "            # print(f\"Bullshit ! for Gauge with ID {gauge_id} error is {error_res}\")\n",
    "print(f\"\\nShit data for {counter} gauges out from {len(q_h_dict.keys())}\")\n"
   ]
  },
  {
   "cell_type": "markdown",
   "metadata": {},
   "source": [
    "### Q(h) for open river (march-october)"
   ]
  },
  {
   "cell_type": "code",
   "execution_count": 5,
   "metadata": {},
   "outputs": [
    {
     "data": {
      "application/vnd.jupyter.widget-view+json": {
       "model_id": "08b057ff96fa474d9c048370041a15db",
       "version_major": 2,
       "version_minor": 0
      },
      "text/plain": [
       "  0%|          | 0/1884 [00:00<?, ?it/s]"
      ]
     },
     "metadata": {},
     "output_type": "display_data"
    },
    {
     "name": "stdout",
     "output_type": "stream",
     "text": [
      "Bullshit ! for Gauge with ID 9499 error is 62.68\n",
      "Bullshit ! for Gauge with ID 84173 error is 174.23\n",
      "Bullshit ! for Gauge with ID 77164 error is 64.09\n",
      "Bullshit ! for Gauge with ID 84399 error is 101.96\n",
      "Bullshit ! for Gauge with ID 84039 error is 160.21\n",
      "Bullshit ! for Gauge with ID 84213 error is 113.36\n",
      "Bullshit ! for Gauge with ID 84401 error is 78.90\n",
      "Bullshit ! for Gauge with ID 84398 error is 77.76\n",
      "Bullshit ! for Gauge with ID 84165 error is 193.82\n",
      "Bullshit ! for Gauge with ID 9302 error is 67.34\n",
      "Bullshit ! for Gauge with ID 84824 error is 64.52\n",
      "Bullshit ! for Gauge with ID 84029 error is 111.42\n",
      "Bullshit ! for Gauge with ID 84215 error is 122.49\n",
      "Bullshit ! for Gauge with ID 5217 error is 64.57\n",
      "Bullshit ! for Gauge with ID 83441 error is 65.04\n",
      "Bullshit ! for Gauge with ID 84448 error is 67.77\n",
      "Bullshit ! for Gauge with ID 84064 error is 63.92\n",
      "Bullshit ! for Gauge with ID 84449 error is 96.71\n",
      "Bullshit ! for Gauge with ID 11487 error is 93.49\n",
      "Bullshit ! for Gauge with ID 75511 error is 132.05\n",
      "Bullshit ! for Gauge with ID 19235 error is 61.06\n",
      "Bullshit ! for Gauge with ID 9419 error is 816.98\n",
      "Bullshit ! for Gauge with ID 82033 error is 81.35\n",
      "Bullshit ! for Gauge with ID 84091 error is 111.19\n",
      "Bullshit ! for Gauge with ID 9547 error is 72.64\n",
      "Bullshit ! for Gauge with ID 84245 error is 86.58\n",
      "Bullshit ! for Gauge with ID 9436 error is 248.96\n",
      "Bullshit ! for Gauge with ID 84447 error is 87.16\n",
      "Bullshit ! for Gauge with ID 84321 error is 70.95\n",
      "Bullshit ! for Gauge with ID 5190 error is 74.28\n",
      "Bullshit ! for Gauge with ID 84452 error is 122.61\n",
      "Bullshit ! for Gauge with ID 84108 error is 141.50\n",
      "Bullshit ! for Gauge with ID 84336 error is 71.44\n",
      "Bullshit ! for Gauge with ID 84243 error is 98.77\n",
      "Bullshit ! for Gauge with ID 19016 error is 63.15\n",
      "Bullshit ! for Gauge with ID 84185 error is 203.36\n",
      "Bullshit ! for Gauge with ID 84344 error is 81.60\n",
      "Bullshit ! for Gauge with ID 70616 error is 93.48\n",
      "Bullshit ! for Gauge with ID 84026 error is 62.73\n",
      "Bullshit ! for Gauge with ID 9297 error is 135.68\n",
      "Bullshit ! for Gauge with ID 6403 error is 62.90\n",
      "Bullshit ! for Gauge with ID 84192 error is 116.96\n",
      "Bullshit ! for Gauge with ID 84179 error is 156.68\n",
      "Bullshit ! for Gauge with ID 84233 error is 91.62\n",
      "Bullshit ! for Gauge with ID 84346 error is 60.48\n",
      "Bullshit ! for Gauge with ID 84342 error is 94.42\n",
      "Bullshit ! for Gauge with ID 83411 error is 62.83\n",
      "Bullshit ! for Gauge with ID 84157 error is 238.68\n",
      "Bullshit ! for Gauge with ID 84037 error is 169.82\n",
      "\n",
      "Shit data for 186 gauges out from 1884\n"
     ]
    }
   ],
   "source": [
    "qh_storage_full = Path(\"data/params/qh_open\")\n",
    "qh_storage_full.mkdir(exist_ok=True, parents=True)\n",
    "\n",
    "counter = 0\n",
    "for gauge_id, data_file in tqdm(q_h_dict.items()):\n",
    "    data_file = data_file.loc[data_file.index.month.isin(range(4, 11))].sort_values(\n",
    "        by=\"q_cms\", ascending=False\n",
    "    )\n",
    "    if len(data_file) < 4:\n",
    "        counter += 1\n",
    "        continue\n",
    "    x = data_file[\"q_cms\"].to_numpy()\n",
    "    y = data_file[\"lvl_sm\"].to_numpy()\n",
    "    use_model = None\n",
    "    try:\n",
    "        use_model = division_model\n",
    "        params = Parameters()\n",
    "        params.add(\"power\", value=1, min=0.01, vary=True)\n",
    "        params.add(\"c\", value=1, min=0.1, vary=True)\n",
    "        params.add(\"slope\", value=1, min=0.01, vary=True)\n",
    "        params.add(\"b\", value=1, min=0.1, vary=True)\n",
    "        result = use_model.fit(y, params, x=x)\n",
    "        error_res = rmse(y_true=y, y_pred=result.best_fit)\n",
    "        if error_res < 60.0:\n",
    "            with open(f\"{qh_storage_full}/{gauge_id}_div.json\", \"w\") as f:\n",
    "                result.params.dump(f)\n",
    "        else:\n",
    "            counter += 1\n",
    "            print(f\"Bullshit ! for Gauge with ID {gauge_id} error is {error_res:.2f}\")\n",
    "    except ValueError:\n",
    "        use_model = sum_model\n",
    "        params = Parameters()\n",
    "        params.add(\"power\", value=1, min=0.01, max=3, brute_step=0.1, vary=True)\n",
    "        params.add(\"c\", value=1, min=0.1, vary=True)\n",
    "        params.add(\"slope\", value=1, min=0.001, max=3, brute_step=0.1, vary=True)\n",
    "        params.add(\"b\", value=1, min=0.1, vary=True)\n",
    "        result = use_model.fit(y, params, x=x)\n",
    "\n",
    "        error_res = rmse(y_true=y, y_pred=result.best_fit)\n",
    "        if error_res < 60.0:\n",
    "            with open(f\"{qh_storage_full}/{gauge_id}_sum.json\", \"w\") as f:\n",
    "                result.params.dump(f)\n",
    "        else:\n",
    "            counter += 1\n",
    "            # print(f\"Bullshit ! for Gauge with ID {gauge_id} error is {error_res}\")\n",
    "print(f\"\\nShit data for {counter} gauges out from {len(q_h_dict.keys())}\")\n"
   ]
  },
  {
   "cell_type": "code",
   "execution_count": null,
   "metadata": {},
   "outputs": [],
   "source": []
  }
 ],
 "metadata": {
  "kernelspec": {
   "display_name": "geo",
   "language": "python",
   "name": "python3"
  },
  "language_info": {
   "codemirror_mode": {
    "name": "ipython",
    "version": 3
   },
   "file_extension": ".py",
   "mimetype": "text/x-python",
   "name": "python",
   "nbconvert_exporter": "python",
   "pygments_lexer": "ipython3",
   "version": "3.10.15"
  }
 },
 "nbformat": 4,
 "nbformat_minor": 2
}
